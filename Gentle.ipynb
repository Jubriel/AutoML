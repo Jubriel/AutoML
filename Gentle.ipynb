{
 "cells": [
  {
   "cell_type": "code",
   "execution_count": 1,
   "metadata": {},
   "outputs": [
    {
     "ename": "ModuleNotFoundError",
     "evalue": "No module named 'catboost'",
     "output_type": "error",
     "traceback": [
      "\u001b[0;31m---------------------------------------------------------------------------\u001b[0m",
      "\u001b[0;31mModuleNotFoundError\u001b[0m                       Traceback (most recent call last)",
      "\u001b[0;32m<ipython-input-1-762ecfb98fa6>\u001b[0m in \u001b[0;36m<module>\u001b[0;34m\u001b[0m\n\u001b[0;32m----> 1\u001b[0;31m \u001b[0;32mclass\u001b[0m \u001b[0mGentle\u001b[0m\u001b[0;34m:\u001b[0m\u001b[0;34m\u001b[0m\u001b[0;34m\u001b[0m\u001b[0m\n\u001b[0m\u001b[1;32m      2\u001b[0m     \u001b[0;32mimport\u001b[0m \u001b[0mpandas\u001b[0m \u001b[0;32mas\u001b[0m \u001b[0mpd\u001b[0m\u001b[0;34m\u001b[0m\u001b[0;34m\u001b[0m\u001b[0m\n\u001b[1;32m      3\u001b[0m     \u001b[0;32mimport\u001b[0m \u001b[0mnumpy\u001b[0m \u001b[0;32mas\u001b[0m \u001b[0mnp\u001b[0m\u001b[0;34m\u001b[0m\u001b[0;34m\u001b[0m\u001b[0m\n\u001b[1;32m      4\u001b[0m     \u001b[0;32mfrom\u001b[0m \u001b[0msklearn\u001b[0m\u001b[0;34m.\u001b[0m\u001b[0mensemble\u001b[0m \u001b[0;32mimport\u001b[0m \u001b[0mVotingClassifier\u001b[0m\u001b[0;34m,\u001b[0m \u001b[0mVotingRegressor\u001b[0m\u001b[0;34m\u001b[0m\u001b[0;34m\u001b[0m\u001b[0m\n\u001b[1;32m      5\u001b[0m     \u001b[0;32mfrom\u001b[0m \u001b[0mcatboost\u001b[0m \u001b[0;32mimport\u001b[0m \u001b[0mCatBoostClassifier\u001b[0m\u001b[0;34m,\u001b[0m \u001b[0mCatBoostRegressor\u001b[0m\u001b[0;34m\u001b[0m\u001b[0;34m\u001b[0m\u001b[0m\n",
      "\u001b[0;32m<ipython-input-1-762ecfb98fa6>\u001b[0m in \u001b[0;36mGentle\u001b[0;34m()\u001b[0m\n\u001b[1;32m      3\u001b[0m     \u001b[0;32mimport\u001b[0m \u001b[0mnumpy\u001b[0m \u001b[0;32mas\u001b[0m \u001b[0mnp\u001b[0m\u001b[0;34m\u001b[0m\u001b[0;34m\u001b[0m\u001b[0m\n\u001b[1;32m      4\u001b[0m     \u001b[0;32mfrom\u001b[0m \u001b[0msklearn\u001b[0m\u001b[0;34m.\u001b[0m\u001b[0mensemble\u001b[0m \u001b[0;32mimport\u001b[0m \u001b[0mVotingClassifier\u001b[0m\u001b[0;34m,\u001b[0m \u001b[0mVotingRegressor\u001b[0m\u001b[0;34m\u001b[0m\u001b[0;34m\u001b[0m\u001b[0m\n\u001b[0;32m----> 5\u001b[0;31m     \u001b[0;32mfrom\u001b[0m \u001b[0mcatboost\u001b[0m \u001b[0;32mimport\u001b[0m \u001b[0mCatBoostClassifier\u001b[0m\u001b[0;34m,\u001b[0m \u001b[0mCatBoostRegressor\u001b[0m\u001b[0;34m\u001b[0m\u001b[0;34m\u001b[0m\u001b[0m\n\u001b[0m\u001b[1;32m      6\u001b[0m     \u001b[0;32mfrom\u001b[0m \u001b[0mlightgbm\u001b[0m \u001b[0;32mimport\u001b[0m \u001b[0mLGBMClassifier\u001b[0m\u001b[0;34m,\u001b[0m \u001b[0mLGBMRegressor\u001b[0m\u001b[0;34m\u001b[0m\u001b[0;34m\u001b[0m\u001b[0m\n\u001b[1;32m      7\u001b[0m     \u001b[0;32mfrom\u001b[0m \u001b[0mxgboost\u001b[0m\u001b[0;34m.\u001b[0m\u001b[0msklearn\u001b[0m \u001b[0;32mimport\u001b[0m \u001b[0mXGBClassifier\u001b[0m\u001b[0;34m,\u001b[0m \u001b[0mXGBRegressor\u001b[0m\u001b[0;34m\u001b[0m\u001b[0;34m\u001b[0m\u001b[0m\n",
      "\u001b[0;31mModuleNotFoundError\u001b[0m: No module named 'catboost'"
     ]
    }
   ],
   "source": [
    "import pandas as pd\n",
    "import numpy as np\n",
    "from sklearn.ensemble import VotingClassifier, VotingRegressor\n",
    "from catboost import CatBoostClassifier, CatBoostRegressor\n",
    "from lightgbm import LGBMClassifier, LGBMRegressor\n",
    "from xgboost.sklearn import XGBClassifier, XGBRegressor\n",
    "from sklearn.model_selection import train_test_split, cross_validate, StratifiedKFold, KFold\n",
    "\n",
    "class Gentle:\n",
    "    def __init__(self):\n",
    "        self._gentle = []\n",
    "\n",
    "    def read_data(self, train_file):\n",
    "        \"\"\" \n",
    "        Importing the csv files.\n",
    "        train_file: The csv dataset to be analyzed\n",
    "        \"\"\"\n",
    "        try:\n",
    "            data = pd.read_csv(train_file)\n",
    "            return data\n",
    "        except:\n",
    "            raise Exception(\"Error occured when importing files\")\n",
    "\n",
    "    def model(self, problem_type, data, target):\n",
    "        \"\"\"\n",
    "        To create a model for the dataset.\n",
    "        data: the imported dataset\n",
    "        problem_type: problem type - classification or regression.\n",
    "            for classification type 'class'\n",
    "            for regression, type 'reg'\n",
    "        target: the name of the target column in the dataset\n",
    "        \"\"\"\n",
    "        try:\n",
    "            # Splitting Target and Dependent variables\n",
    "            X = data.drop(target, axis=1)\n",
    "            y = data[target]\n",
    "            \n",
    "            # Splitting the datasets\n",
    "            trainX, testX, trainy, testy = train_test_split(X, y, test_size=0.3, random_state=101)\n",
    "            \n",
    "            # CLASSIFICATION\n",
    "            if problem_type == 'class':\n",
    "                models = [('cat', CatBoostClassifier(verbose=0)),\n",
    "                          ('lgbm', LGBMClassifier()),\n",
    "                          ('xgb', XGBClassifier())]\n",
    "                metric = 'roc_auc'\n",
    "                voting = 'soft'\n",
    "                kfold = StratifiedKFold(n_splits=5, shuffle=True)\n",
    "                scoring = ['roc_auc', 'balanced_accuracy']\n",
    "            \n",
    "            # REGRESSION\n",
    "            elif problem_type == 'reg':\n",
    "                models = [('cat', CatBoostRegressor(verbose=0)),\n",
    "                          ('lgbm', LGBMRegressor()),\n",
    "                          ('xgb', XGBRegressor())]\n",
    "                metric = 'RMSE'\n",
    "                voting = 'hard'\n",
    "                kfold = KFold(n_splits=5, shuffle=True)\n",
    "                scoring = ['neg_root_mean_squared_error', 'r2']\n",
    "                \n",
    "            results = []\n",
    "            names = []\n",
    "            for name, model in models:\n",
    "                cv_results = cross_validate(model, trainX, trainy, cv=kfold, scoring=scoring, return_train_score=True)\n",
    "                results.append([-cv_results['test_neg_root_mean_squared_error'].mean(), cv_results[f'test_{metric}'].mean()])\n",
    "                names.append(name)\n",
    "            \n",
    "            alg = pd.DataFrame({'models': models, metric: [m[1] for m in results]})\n",
    "            top_models = alg.sort_values(metric)[:2]['models'].tolist()\n",
    "            top_weights = alg.sort_values(metric)[:2][metric].tolist()\n",
    "            ensemble = VotingClassifier(top_models, weights=top_weights, voting=voting) if problem_type == 'class' else VotingRegressor(top_models, weights=top_weights, voting=voting)\n",
    "            ensemble.fit(trainX, trainy)\n",
    "            y_pred = ensemble.predict(testX)\n",
    "            train_score = ensemble.score(trainX, trainy)\n",
    "            test_score = ensemble.score(testX, testy)\n",
    "\n",
    "            scores = f'Ensemble: The Train score is {train_score}, The Test score is {test_score}'\n",
    "            return alg, scores\n",
    "            \n",
    "        except:\n",
    "            raise Exception(f\"Error occured when modeling for {problem_type}\")\n"
   ]
  },
  {
   "cell_type": "code",
   "execution_count": null,
   "metadata": {},
   "outputs": [],
   "source": []
  }
 ],
 "metadata": {
  "kernelspec": {
   "display_name": "Python 3.8.3 ('base')",
   "language": "python",
   "name": "python3"
  },
  "language_info": {
   "codemirror_mode": {
    "name": "ipython",
    "version": 3
   },
   "file_extension": ".py",
   "mimetype": "text/x-python",
   "name": "python",
   "nbconvert_exporter": "python",
   "pygments_lexer": "ipython3",
   "version": "3.8.3"
  },
  "orig_nbformat": 2,
  "vscode": {
   "interpreter": {
    "hash": "2693737ccf27ef6b405acd012db9076fe47252514c34c3e1ccc390adc4e8866f"
   }
  }
 },
 "nbformat": 4,
 "nbformat_minor": 2
}
